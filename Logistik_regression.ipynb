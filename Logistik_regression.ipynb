{
 "cells": [
  {
   "cell_type": "markdown",
   "metadata": {},
   "source": [
    "Логистическая регрессия\n",
    "---"
   ]
  },
  {
   "cell_type": "markdown",
   "metadata": {},
   "source": [
    "Обработка датасета"
   ]
  },
  {
   "cell_type": "code",
   "execution_count": 19,
   "metadata": {},
   "outputs": [],
   "source": [
    "import numpy as np\n",
    "import matplotlib.pyplot as plt\n",
    "from sklearn.datasets import load_digits\n",
    "from sklearn.model_selection import train_test_split"
   ]
  },
  {
   "cell_type": "code",
   "execution_count": 24,
   "metadata": {},
   "outputs": [
    {
     "data": {
      "text/plain": [
       "<matplotlib.image.AxesImage at 0x16be2e0d0>"
      ]
     },
     "execution_count": 24,
     "metadata": {},
     "output_type": "execute_result"
    },
    {
     "data": {
      "text/plain": [
       "<Figure size 640x480 with 0 Axes>"
      ]
     },
     "metadata": {},
     "output_type": "display_data"
    },
    {
     "data": {
      "image/png": "[encoded data removed]",
      "text/plain": [
       "<Figure size 480x480 with 1 Axes>"
      ]
     },
     "metadata": {},
     "output_type": "display_data"
    }
   ],
   "source": [
    "data = load_digits()\n",
    "plt.gray()\n",
    "plt.matshow(data.images[1])"
   ]
  },
  {
   "cell_type": "code",
   "execution_count": 200,
   "metadata": {},
   "outputs": [],
   "source": [
    "X = data['data'] #все массивы объекта объединены в один и так для каждого в датасете\n",
    "y = (data['target'] >= 5).astype(np.int32) #таргет для каждого массива (объекта)\n",
    "#КАК РАБОТАЕТ ВТОРАЯ СТРОЧКА????"
   ]
  },
  {
   "cell_type": "code",
   "execution_count": 201,
   "metadata": {},
   "outputs": [
    {
     "data": {
      "text/plain": [
       "array([[ 0.,  0.,  5., 13.,  9.,  1.,  0.,  0.],\n",
       "       [ 0.,  0., 13., 15., 10., 15.,  5.,  0.],\n",
       "       [ 0.,  3., 15.,  2.,  0., 11.,  8.,  0.],\n",
       "       [ 0.,  4., 12.,  0.,  0.,  8.,  8.,  0.],\n",
       "       [ 0.,  5.,  8.,  0.,  0.,  9.,  8.,  0.],\n",
       "       [ 0.,  4., 11.,  0.,  1., 12.,  7.,  0.],\n",
       "       [ 0.,  2., 14.,  5., 10., 12.,  0.,  0.],\n",
       "       [ 0.,  0.,  6., 13., 10.,  0.,  0.,  0.]])"
      ]
     },
     "execution_count": 201,
     "metadata": {},
     "output_type": "execute_result"
    }
   ],
   "source": [
    "data.images[0] #так выглядит объект изначально"
   ]
  },
  {
   "cell_type": "code",
   "execution_count": 202,
   "metadata": {},
   "outputs": [
    {
     "data": {
      "text/plain": [
       "array([ 0.,  0.,  5., 13.,  9.,  1.,  0.,  0.,  0.,  0., 13., 15., 10.,\n",
       "       15.,  5.,  0.,  0.,  3., 15.,  2.,  0., 11.,  8.,  0.,  0.,  4.,\n",
       "       12.,  0.,  0.,  8.,  8.,  0.,  0.,  5.,  8.,  0.,  0.,  9.,  8.,\n",
       "        0.,  0.,  4., 11.,  0.,  1., 12.,  7.,  0.,  0.,  2., 14.,  5.,\n",
       "       10., 12.,  0.,  0.,  0.,  0.,  6., 13., 10.,  0.,  0.,  0.])"
      ]
     },
     "execution_count": 202,
     "metadata": {},
     "output_type": "execute_result"
    }
   ],
   "source": [
    "X[0] #так выглядит тот же объект в X"
   ]
  },
  {
   "cell_type": "code",
   "execution_count": 203,
   "metadata": {},
   "outputs": [
    {
     "name": "stdout",
     "output_type": "stream",
     "text": [
      "1203\n",
      "1203\n",
      "594\n",
      "594\n"
     ]
    }
   ],
   "source": [
    "X_train, X_test, y_train, y_test = train_test_split(\n",
    "    X, y, test_size=0.33, random_state=42)\n",
    "print (len(X_train))\n",
    "print(len(y_train))\n",
    "print (len(X_test))\n",
    "print(len(y_test))\n"
   ]
  },
  {
   "cell_type": "code",
   "execution_count": 204,
   "metadata": {},
   "outputs": [],
   "source": [
    "count, axe = X_train.shape"
   ]
  },
  {
   "cell_type": "code",
   "execution_count": 205,
   "metadata": {},
   "outputs": [
    {
     "data": {
      "text/plain": [
       "(1203, 64)"
      ]
     },
     "execution_count": 205,
     "metadata": {},
     "output_type": "execute_result"
    }
   ],
   "source": [
    "X_train.shape"
   ]
  },
  {
   "cell_type": "markdown",
   "metadata": {},
   "source": [
    "Логистическая регрессия"
   ]
  },
  {
   "cell_type": "code",
   "execution_count": 252,
   "metadata": {},
   "outputs": [],
   "source": [
    "class Logistic_regression:\n",
    "    def __init__(self):\n",
    "        self.w =  np.random.randn(1, axe)\n",
    "        self.b = np.random.randint(0,11)*0.1\n",
    "        self.report = 100\n",
    "\n",
    "    def activation_func(self, z):\n",
    "        return 1/(1+np.exp(-z))\n",
    "\n",
    "    def loss_func(self, y_pred, y_actual):\n",
    "        eps = 1e-10\n",
    "        loss = 0\n",
    "        for i in range(len(y_actual)):\n",
    "            y_act_cl = np.clip(y_actual[i], eps, 1-eps) #лежит на (0,1)\n",
    "            y_pred_cl = np.clip(y_pred[i], eps, 1-eps)  #лежит на (0,1)\n",
    "            loss+= (-y_act_cl)*np.log(y_pred_cl)-(1-y_act_cl)*np.log(1-y_pred_cl)\n",
    "        return loss/len(y_actual)\n",
    "    \n",
    "    def z(self, X):\n",
    "        return np.dot(self.w,X)+self.b \n",
    "\n",
    "    def train(self, X_train, y_train, learning_rate = 0.05, epochs = 100):\n",
    "        self.losses_func_train = []\n",
    "        self.losses_func_test = []\n",
    "\n",
    "        for epoch in range(epochs):\n",
    "            dw = np.zeros(axe) #dL/dw\n",
    "            db = 0 #dL/db\n",
    "            for i in range(len(X_train)):\n",
    "                x_i = X_train[i]\n",
    "                z_i = self.z(x_i)\n",
    "                activation_function = self.activation_func(z_i)\n",
    "                dw += x_i*(activation_function-y_train[i]) \n",
    "                db += (activation_function-y_train[i])\n",
    "            #считаем среднее\n",
    "            dw = dw/len(X_train)\n",
    "            db = db/len(X_train)\n",
    "            self.w-=learning_rate*dw\n",
    "            self.b-=learning_rate*db\n",
    "\n",
    "            if epoch%self.report == 0: #выводим значение функции потерь каждые self.report эпох\n",
    "                self.losses_func_train.append(self.loss_func(self.predict(X_train), y_train))\n",
    "                self.losses_func_test.append(self.loss_func(self.predict(X_test), y_test))\n",
    "                print(\"----------------------------------\")\n",
    "                print(self.losses_func_train[int(epoch/self.report)])\n",
    "                print(self.losses_func_test[int(epoch/self.report)])\n",
    "    \n",
    "    def predict(self, X): #ДОБАВИТЬ ВЕКТОРИЗАЦИЮ В ЦИКЛ ИЛИ СДЕЛАТЬ Ч/З NUMPY\n",
    "        y_predictioned = []\n",
    "        for i in range(len(X)):\n",
    "            y_predictioned.append(self.activation_func(self.z(X[i])))\n",
    "        return y_predictioned\n",
    "    \n",
    "    def predict_object(self, x):\n",
    "        return self.activation_func(self.z(x))\n"
   ]
  },
  {
   "cell_type": "code",
   "execution_count": 253,
   "metadata": {},
   "outputs": [
    {
     "name": "stdout",
     "output_type": "stream",
     "text": [
      "----------------------------------\n",
      "[8.09225126]\n",
      "[8.89838568]\n",
      "----------------------------------\n",
      "[2.64291178]\n",
      "[2.53772294]\n",
      "----------------------------------\n",
      "[0.81971958]\n",
      "[0.83971139]\n",
      "----------------------------------\n",
      "[0.73125035]\n",
      "[0.7713984]\n",
      "----------------------------------\n",
      "[0.73969746]\n",
      "[0.74362154]\n",
      "----------------------------------\n",
      "[2.50728915]\n",
      "[2.50305454]\n"
     ]
    }
   ],
   "source": [
    "logres = Logistic_regression()\n",
    "logres.train(X_train, y_train, epochs=600)"
   ]
  },
  {
   "cell_type": "code",
   "execution_count": 254,
   "metadata": {},
   "outputs": [
    {
     "data": {
      "image/png": "[encoded data removed]",
      "text/plain": [
       "<Figure size 300x300 with 1 Axes>"
      ]
     },
     "metadata": {},
     "output_type": "display_data"
    }
   ],
   "source": [
    "plt.figure(figsize=(3, 3))\n",
    "plt.imshow(X_test[4].reshape(8, 8), cmap='gray')  # X_train[0] - первая картинка в тренировочном наборе\n",
    "plt.axis('off')\n",
    "plt.show()"
   ]
  },
  {
   "cell_type": "code",
   "execution_count": 257,
   "metadata": {},
   "outputs": [
    {
     "data": {
      "text/plain": [
       "array([0.01628222])"
      ]
     },
     "execution_count": 257,
     "metadata": {},
     "output_type": "execute_result"
    }
   ],
   "source": [
    "logres.predict_object(X_test[4])"
   ]
  },
  {
   "cell_type": "markdown",
   "metadata": {},
   "source": [
    "Возможные улучшения:\n",
    "\n",
    "*Рассмотрите возможность использования оптимизационных методов, таких как стохастический градиентный спуск (SGD) или его варианты, для более эффективного обучения.\n",
    "\n",
    "*Используйте проверку на None для X_test и y_test в методе train, чтобы избежать ошибок при их отсутствии.\n",
    "\n",
    "*Добавьте обработку входных данных, такую как проверка их размерности, чтобы убедиться, что они соответствуют ожиданиям модели."
   ]
  }
 ],
 "metadata": {
  "kernelspec": {
   "display_name": "Python 3",
   "language": "python",
   "name": "python3"
  },
  "language_info": {
   "codemirror_mode": {
    "name": "ipython",
    "version": 3
   },
   "file_extension": ".py",
   "mimetype": "text/x-python",
   "name": "python",
   "nbconvert_exporter": "python",
   "pygments_lexer": "ipython3",
   "version": "3.11.9"
  }
 },
 "nbformat": 4,
 "nbformat_minor": 2
}
