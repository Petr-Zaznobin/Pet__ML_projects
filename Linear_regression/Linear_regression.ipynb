{
 "cells": [
  {
   "cell_type": "markdown",
   "metadata": {},
   "source": [
    "Linear_regression\n",
    "---"
   ]
  },
  {
   "cell_type": "code",
   "execution_count": 95,
   "metadata": {},
   "outputs": [],
   "source": [
    "import pandas as pd\n",
    "import numpy as np\n",
    "from numpy import genfromtxt\n",
    "from matplotlib import pyplot as plt\n",
    "from sklearn.model_selection import train_test_split"
   ]
  },
  {
   "cell_type": "code",
   "execution_count": 96,
   "metadata": {},
   "outputs": [
    {
     "data": {
      "text/html": [
       "<div>\n",
       "<style scoped>\n",
       "    .dataframe tbody tr th:only-of-type {\n",
       "        vertical-align: middle;\n",
       "    }\n",
       "\n",
       "    .dataframe tbody tr th {\n",
       "        vertical-align: top;\n",
       "    }\n",
       "\n",
       "    .dataframe thead th {\n",
       "        text-align: right;\n",
       "    }\n",
       "</style>\n",
       "<table border=\"1\" class=\"dataframe\">\n",
       "  <thead>\n",
       "    <tr style=\"text-align: right;\">\n",
       "      <th></th>\n",
       "      <th>Hours Studied</th>\n",
       "      <th>Previous Scores</th>\n",
       "      <th>Extracurricular Activities</th>\n",
       "      <th>Sleep Hours</th>\n",
       "      <th>Sample Question Papers Practiced</th>\n",
       "      <th>Performance Index</th>\n",
       "    </tr>\n",
       "  </thead>\n",
       "  <tbody>\n",
       "    <tr>\n",
       "      <th>Hours Studied</th>\n",
       "      <td>1.000000</td>\n",
       "      <td>-0.012390</td>\n",
       "      <td>0.003873</td>\n",
       "      <td>0.001245</td>\n",
       "      <td>0.017463</td>\n",
       "      <td>0.373730</td>\n",
       "    </tr>\n",
       "    <tr>\n",
       "      <th>Previous Scores</th>\n",
       "      <td>-0.012390</td>\n",
       "      <td>1.000000</td>\n",
       "      <td>0.008369</td>\n",
       "      <td>0.005944</td>\n",
       "      <td>0.007888</td>\n",
       "      <td>0.915189</td>\n",
       "    </tr>\n",
       "    <tr>\n",
       "      <th>Extracurricular Activities</th>\n",
       "      <td>0.003873</td>\n",
       "      <td>0.008369</td>\n",
       "      <td>1.000000</td>\n",
       "      <td>-0.023284</td>\n",
       "      <td>0.013103</td>\n",
       "      <td>0.024525</td>\n",
       "    </tr>\n",
       "    <tr>\n",
       "      <th>Sleep Hours</th>\n",
       "      <td>0.001245</td>\n",
       "      <td>0.005944</td>\n",
       "      <td>-0.023284</td>\n",
       "      <td>1.000000</td>\n",
       "      <td>0.003990</td>\n",
       "      <td>0.048106</td>\n",
       "    </tr>\n",
       "    <tr>\n",
       "      <th>Sample Question Papers Practiced</th>\n",
       "      <td>0.017463</td>\n",
       "      <td>0.007888</td>\n",
       "      <td>0.013103</td>\n",
       "      <td>0.003990</td>\n",
       "      <td>1.000000</td>\n",
       "      <td>0.043268</td>\n",
       "    </tr>\n",
       "    <tr>\n",
       "      <th>Performance Index</th>\n",
       "      <td>0.373730</td>\n",
       "      <td>0.915189</td>\n",
       "      <td>0.024525</td>\n",
       "      <td>0.048106</td>\n",
       "      <td>0.043268</td>\n",
       "      <td>1.000000</td>\n",
       "    </tr>\n",
       "  </tbody>\n",
       "</table>\n",
       "</div>"
      ],
      "text/plain": [
       "                                  Hours Studied  Previous Scores  \\\n",
       "Hours Studied                          1.000000        -0.012390   \n",
       "Previous Scores                       -0.012390         1.000000   \n",
       "Extracurricular Activities             0.003873         0.008369   \n",
       "Sleep Hours                            0.001245         0.005944   \n",
       "Sample Question Papers Practiced       0.017463         0.007888   \n",
       "Performance Index                      0.373730         0.915189   \n",
       "\n",
       "                                  Extracurricular Activities  Sleep Hours  \\\n",
       "Hours Studied                                       0.003873     0.001245   \n",
       "Previous Scores                                     0.008369     0.005944   \n",
       "Extracurricular Activities                          1.000000    -0.023284   \n",
       "Sleep Hours                                        -0.023284     1.000000   \n",
       "Sample Question Papers Practiced                    0.013103     0.003990   \n",
       "Performance Index                                   0.024525     0.048106   \n",
       "\n",
       "                                  Sample Question Papers Practiced  \\\n",
       "Hours Studied                                             0.017463   \n",
       "Previous Scores                                           0.007888   \n",
       "Extracurricular Activities                                0.013103   \n",
       "Sleep Hours                                               0.003990   \n",
       "Sample Question Papers Practiced                          1.000000   \n",
       "Performance Index                                         0.043268   \n",
       "\n",
       "                                  Performance Index  \n",
       "Hours Studied                              0.373730  \n",
       "Previous Scores                            0.915189  \n",
       "Extracurricular Activities                 0.024525  \n",
       "Sleep Hours                                0.048106  \n",
       "Sample Question Papers Practiced           0.043268  \n",
       "Performance Index                          1.000000  "
      ]
     },
     "execution_count": 96,
     "metadata": {},
     "output_type": "execute_result"
    }
   ],
   "source": [
    "df = pd.read_csv('Student_Performance.csv')\n",
    "column_names = df.columns.tolist()\n",
    "df['Performance Index'] = df['Performance Index'].astype(int)\n",
    "for ind in range(len(df['Extracurricular Activities'])):\n",
    "    if df.loc[ind, 'Extracurricular Activities'] == \"Yes\": \n",
    "        df.loc[ind, 'Extracurricular Activities'] = 1\n",
    "    else:\n",
    "        df.loc[ind, 'Extracurricular Activities'] = 0\n",
    "df.corr('pearson')       \n"
   ]
  },
  {
   "cell_type": "code",
   "execution_count": 97,
   "metadata": {},
   "outputs": [
    {
     "data": {
      "text/plain": [
       "array([[ 7, 99,  1,  9,  1, 91],\n",
       "       [ 4, 82,  0,  4,  2, 65],\n",
       "       [ 8, 51,  1,  7,  2, 45],\n",
       "       ...,\n",
       "       [ 6, 83,  1,  8,  5, 74],\n",
       "       [ 9, 97,  1,  7,  0, 95],\n",
       "       [ 7, 74,  0,  8,  1, 64]])"
      ]
     },
     "execution_count": 97,
     "metadata": {},
     "output_type": "execute_result"
    }
   ],
   "source": [
    "data = df.to_numpy(dtype='int')\n",
    "data"
   ]
  },
  {
   "cell_type": "code",
   "execution_count": 98,
   "metadata": {},
   "outputs": [],
   "source": [
    "# Все столбцы, кроме последнего\n",
    "X = data[:, :-1]\n",
    "\n",
    "# Последний столбец\n",
    "y = data[:, -1]"
   ]
  },
  {
   "cell_type": "code",
   "execution_count": 104,
   "metadata": {},
   "outputs": [
    {
     "name": "stdout",
     "output_type": "stream",
     "text": [
      "6700 6700 3300 3300\n"
     ]
    }
   ],
   "source": [
    "X_train, X_test, y_train, y_test = train_test_split(X, y, test_size=0.33, random_state=42)\n",
    "size = len(X_train[0])\n",
    "print(len(X_train), len(y_train), len(X_test), len(y_test))"
   ]
  },
  {
   "cell_type": "code",
   "execution_count": 117,
   "metadata": {},
   "outputs": [],
   "source": [
    "class Linear_regression:\n",
    "    def __init__(self, report_count = 10):\n",
    "        self.w = np.random.randn(size, 1)\n",
    "        self.b = np.random.randint(11)*0.1\n",
    "        self.report_count = report_count\n",
    "    \n",
    "    def z(self, X_train):\n",
    "        print(self.w)\n",
    "        print(X_train)\n",
    "        print(np.dot(X_train, self.w))\n",
    "        return np.dot(X_train, self.w)+self.b\n",
    "    \n",
    "    def MSE(self, y_pred, y_actual):\n",
    "        sum = 0\n",
    "        for i in range(len(y_actual)):\n",
    "            sum += pow((y_actual[i]-y_pred[i]), 2)\n",
    "        return sum/len(y_actual)\n",
    "\n",
    "    def MAE(self, y_pred, y_actual):\n",
    "        sum = 0\n",
    "        for i in range(len(y_actual)):\n",
    "            sum+=np.abs(y_actual-y_pred)\n",
    "        return sum/len(y_actual)\n",
    "    \n",
    "    def train(self, X_train, y_train, X_test, y_test, epochs = 100, learning_rate = 0.05, loss_func = 'MSE'):\n",
    "        if loss_func == 'MSE':\n",
    "            for epoch in range(epochs):\n",
    "                dw = np.zeros((1, size))\n",
    "                db = 0\n",
    "                for i in range(len(X_train)):\n",
    "                    y_pred = self.z(X_train[i])\n",
    "                    dw+=2 * X_train[i] * (y_pred[i] - y_train[i])\n",
    "                    db+=2*(y_pred[i] - y_train[i])\n",
    "\n",
    "                dw/=size\n",
    "                db/=size\n",
    "\n",
    "                self.w-=dw*learning_rate\n",
    "                self.b-=db*learning_rate\n",
    "\n",
    "                if(epoch%self.report_count == 0):\n",
    "                    print('-------------------------')\n",
    "                    print('Train Error: ', self.MSE(y_pred, y_train))\n",
    "                    print('Test Error: ', self.MSE(self.z(X_test), y_test))\n",
    "        else:\n",
    "            print('NOT READY')\n",
    "    \n",
    "    def predict_pocket(self, X_test):\n",
    "        predict = self.z(X_test)\n",
    "        return predict\n",
    "    \n",
    "    def predict_object(self, obj):\n",
    "        predict = np.dot(self.w, obj) + self.b\n",
    "        return predict"
   ]
  },
  {
   "cell_type": "code",
   "execution_count": 118,
   "metadata": {},
   "outputs": [
    {
     "name": "stdout",
     "output_type": "stream",
     "text": [
      "[[-0.21459479]\n",
      " [ 0.96294555]\n",
      " [-0.54396192]\n",
      " [-0.10347177]\n",
      " [-0.42799962]]\n",
      "[ 3 81  1  8  5]\n",
      "[73.84307111]\n",
      "[[-0.21459479]\n",
      " [ 0.96294555]\n",
      " [-0.54396192]\n",
      " [-0.10347177]\n",
      " [-0.42799962]]\n",
      "[ 1 88  1  8  4]\n",
      "[81.44087916]\n"
     ]
    },
    {
     "ename": "IndexError",
     "evalue": "index 1 is out of bounds for axis 0 with size 1",
     "output_type": "error",
     "traceback": [
      "\u001b[0;31m---------------------------------------------------------------------------\u001b[0m",
      "\u001b[0;31mIndexError\u001b[0m                                Traceback (most recent call last)",
      "Cell \u001b[0;32mIn[118], line 2\u001b[0m\n\u001b[1;32m      1\u001b[0m lin \u001b[38;5;241m=\u001b[39m Linear_regression(\u001b[38;5;241m10\u001b[39m)\n\u001b[0;32m----> 2\u001b[0m \u001b[43mlin\u001b[49m\u001b[38;5;241;43m.\u001b[39;49m\u001b[43mtrain\u001b[49m\u001b[43m(\u001b[49m\u001b[43mX_train\u001b[49m\u001b[43m,\u001b[49m\u001b[43m \u001b[49m\u001b[43my_train\u001b[49m\u001b[43m,\u001b[49m\u001b[43m \u001b[49m\u001b[43mX_test\u001b[49m\u001b[43m,\u001b[49m\u001b[43m \u001b[49m\u001b[43my_test\u001b[49m\u001b[43m,\u001b[49m\u001b[43m \u001b[49m\u001b[38;5;241;43m500\u001b[39;49m\u001b[43m,\u001b[49m\u001b[43m \u001b[49m\u001b[38;5;241;43m0.05\u001b[39;49m\u001b[43m,\u001b[49m\u001b[43m \u001b[49m\u001b[38;5;124;43m'\u001b[39;49m\u001b[38;5;124;43mMSE\u001b[39;49m\u001b[38;5;124;43m'\u001b[39;49m\u001b[43m)\u001b[49m\n",
      "Cell \u001b[0;32mIn[117], line 32\u001b[0m, in \u001b[0;36mLinear_regression.train\u001b[0;34m(self, X_train, y_train, X_test, y_test, epochs, learning_rate, loss_func)\u001b[0m\n\u001b[1;32m     30\u001b[0m \u001b[38;5;28;01mfor\u001b[39;00m i \u001b[38;5;129;01min\u001b[39;00m \u001b[38;5;28mrange\u001b[39m(\u001b[38;5;28mlen\u001b[39m(X_train)):\n\u001b[1;32m     31\u001b[0m     y_pred \u001b[38;5;241m=\u001b[39m \u001b[38;5;28mself\u001b[39m\u001b[38;5;241m.\u001b[39mz(X_train[i])\n\u001b[0;32m---> 32\u001b[0m     dw\u001b[38;5;241m+\u001b[39m\u001b[38;5;241m=\u001b[39m\u001b[38;5;241m2\u001b[39m \u001b[38;5;241m*\u001b[39m X_train[i] \u001b[38;5;241m*\u001b[39m (\u001b[43my_pred\u001b[49m\u001b[43m[\u001b[49m\u001b[43mi\u001b[49m\u001b[43m]\u001b[49m \u001b[38;5;241m-\u001b[39m y_train[i])\n\u001b[1;32m     33\u001b[0m     db\u001b[38;5;241m+\u001b[39m\u001b[38;5;241m=\u001b[39m\u001b[38;5;241m2\u001b[39m\u001b[38;5;241m*\u001b[39m(y_pred[i] \u001b[38;5;241m-\u001b[39m y_train[i])\n\u001b[1;32m     35\u001b[0m dw\u001b[38;5;241m/\u001b[39m\u001b[38;5;241m=\u001b[39msize\n",
      "\u001b[0;31mIndexError\u001b[0m: index 1 is out of bounds for axis 0 with size 1"
     ]
    }
   ],
   "source": [
    "lin = Linear_regression(10)\n",
    "lin.train(X_train, y_train, X_test, y_test, 500, 0.05, 'MSE')"
   ]
  }
 ],
 "metadata": {
  "kernelspec": {
   "display_name": "Python 3",
   "language": "python",
   "name": "python3"
  },
  "language_info": {
   "codemirror_mode": {
    "name": "ipython",
    "version": 3
   },
   "file_extension": ".py",
   "mimetype": "text/x-python",
   "name": "python",
   "nbconvert_exporter": "python",
   "pygments_lexer": "ipython3",
   "version": "3.11.9"
  }
 },
 "nbformat": 4,
 "nbformat_minor": 2
}
